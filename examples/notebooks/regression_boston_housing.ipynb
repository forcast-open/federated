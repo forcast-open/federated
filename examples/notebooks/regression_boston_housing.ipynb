{
 "cells": [
  {
   "cell_type": "code",
   "execution_count": 1,
   "id": "defined-frank",
   "metadata": {},
   "outputs": [],
   "source": [
    "import os\n",
    "import sys\n",
    "import requests\n",
    "from sklearn.model_selection import train_test_split\n",
    "from sklearn.metrics import mean_squared_error, r2_score\n",
    "import jsonpickle as jpk\n",
    "import time\n",
    "import numpy as np\n",
    "import pandas as pd\n",
    "import torch.nn as nn\n",
    "from tqdm.notebook import tqdm\n",
    "# Federated imports\n",
    "import forcast_federated_learning as ffl\n",
    "\n",
    "# Parameters\n",
    "num_clients        = 10\n",
    "com_rounds         = 100\n",
    "seed               = 0\n",
    "batch_size         = 40\n",
    "noise_multiplier   = 0.1\n",
    "max_grad_norm      = 0.6\n",
    "lr                 = 0.01\n",
    "weight_decay       = 5e-5\n",
    "epochs             = 1\n",
    "hidden_neurons     = 500\n",
    "diff_privacy       = False\n",
    "\n",
    "# Metrics\n",
    "df_metrics = pd.DataFrame(dict(zip(['round', 'rmse', 'r2_score', 'epsilon', 'delta'], [int,[],[],[],[]])))\n",
    "\n",
    "# Load local train data\n",
    "X, y, df_data, description  = ffl.datasets.load_scikit_boston()\n",
    "\n",
    "X_mean = np.mean(X, axis=0)\n",
    "X_std  = np.std(X, axis=0)\n",
    "X      = (X - X_mean) / X_std\n",
    "\n",
    "# y_mean = np.mean(y, axis=0)\n",
    "# y_std  = np.std(y, axis=0)\n",
    "# y      = (y - y_mean) / y_std\n",
    "\n",
    "y_mean, y_std = 0, 1\n",
    "\n",
    "# Split the database in train and test\n",
    "X_train, X_test, y_train, y_test = train_test_split(X, y, test_size=0.209, random_state=seed)  \n",
    "\n",
    "# Create custom pytorch datasers for train and testing\n",
    "traindata = ffl.datasets.StructuredDataset(X_train, y_train, categorical=False)\n",
    "testdata  = ffl.datasets.StructuredDataset(X_test, y_test, categorical=False)"
   ]
  },
  {
   "cell_type": "code",
   "execution_count": 2,
   "id": "promising-republic",
   "metadata": {},
   "outputs": [],
   "source": [
    "# Split the train data and use only a fraction\n",
    "traindata_split = ffl.data.random_split(traindata, num_clients=num_clients, seed=seed)\n",
    "\n",
    "# Get data loader\n",
    "train_loaders = [ffl.utils.DataLoader(traindata, batch_size=batch_size, shuffle=True, seed=seed)   for traindata in traindata_split]\n",
    "test_loader  = ffl.utils.DataLoader(testdata, batch_size=len(testdata), shuffle=True, seed=seed)"
   ]
  },
  {
   "cell_type": "code",
   "execution_count": 3,
   "id": "finnish-hardwood",
   "metadata": {},
   "outputs": [],
   "source": [
    "# Train params\n",
    "delta              = 10**-np.ceil(np.log10(len(traindata))) # delta < 1/len(dataset)\n",
    "security_params    = {'noise_multiplier': noise_multiplier, 'max_grad_norm': max_grad_norm, 'batch_size': batch_size, 'sample_size': len(traindata), 'target_delta': delta} \n",
    "optimizer_params   = {'lr': lr, 'weight_decay': weight_decay}\n",
    "train_params       = {'epochs': epochs}\n",
    "\n",
    "local_models       = []\n",
    "for _ in range(num_clients):\n",
    "    # Create federated model based on a pytorch model\n",
    "    num_features, num_outputs  = 13, 1\n",
    "    model                      = ffl.models.NN_REG(input_dim=num_features, output_dim=num_outputs, hidden_dim=hidden_neurons) # pytorch model (_REG means with no softmax output)\n",
    "    loss_fn                    = nn.MSELoss() # regression\n",
    "    local_model                = ffl.LocalModel(model, model_type = 'nn', loss_fn=loss_fn, train_params=train_params)\n",
    "    local_model.optimizer      = ffl.optim.Adam(local_model.parameters(), **optimizer_params)\n",
    "    if diff_privacy == True:\n",
    "        local_model.privacy_engine = ffl.security.PrivacyEngine(local_model, **security_params)\n",
    "        local_model.privacy_engine.attach(local_model.optimizer)\n",
    "    \n",
    "    local_models.append(local_model)"
   ]
  },
  {
   "cell_type": "code",
   "execution_count": 4,
   "id": "bizarre-closer",
   "metadata": {},
   "outputs": [],
   "source": [
    "model           = local_model.model # pytorch model\n",
    "fed_model       = ffl.FederatedModel(model, model_type='nn')"
   ]
  },
  {
   "cell_type": "code",
   "execution_count": 5,
   "id": "unlimited-potential",
   "metadata": {},
   "outputs": [
    {
     "data": {
      "application/vnd.jupyter.widget-view+json": {
       "model_id": "d7cf8d1e75ed4892b15a555128ab89d1",
       "version_major": 2,
       "version_minor": 0
      },
      "text/plain": [
       "  0%|          | 0/100 [00:00<?, ?it/s]"
      ]
     },
     "metadata": {},
     "output_type": "display_data"
    },
    {
     "name": "stdout",
     "output_type": "stream",
     "text": [
      "Test RMSE: 22.810482025146484 - Test R2: -5.623979971196985\n",
      "Test RMSE: 10.408553123474121 - Test R2: -0.3792113130286465\n",
      "Test RMSE: 7.3210039138793945 - Test R2: 0.3176748488968151\n",
      "Test RMSE: 7.0345587730407715 - Test R2: 0.3700242986767388\n",
      "Test RMSE: 5.692572116851807 - Test R2: 0.5874589654421624\n",
      "Test RMSE: 5.4104437828063965 - Test R2: 0.627337366979047\n",
      "Test RMSE: 5.243279933929443 - Test R2: 0.6500095394247307\n",
      "Test RMSE: 5.061090469360352 - Test R2: 0.6739093945414237\n",
      "Test RMSE: 4.760944366455078 - Test R2: 0.7114398821548672\n",
      "Test RMSE: 4.695668697357178 - Test R2: 0.7192983098378742\n",
      "Test RMSE: 4.62470006942749 - Test R2: 0.7277190278736014\n"
     ]
    }
   ],
   "source": [
    "for com_round in tqdm(range(com_rounds)):\n",
    "    for local_model, train_loader in zip(local_models, train_loaders):\n",
    "        local_model.step(train_loader, device='cpu')\n",
    "    \n",
    "    client_weights = [local_model.state_dict() for local_model in local_models]\n",
    "    client_lens    = [len(traindata) for traindata in traindata_split]\n",
    "    fed_model.server_agregate(client_weights, client_lens)\n",
    "    weights = fed_model.state_dict()\n",
    "    \n",
    "    for local_model in local_models:\n",
    "        local_model.load_state_dict(weights)\n",
    "    \n",
    "    # Test\n",
    "    local_model.eval() # test mode\n",
    "    output         = local_model(testdata.data)\n",
    "    y_test_predict = output.detach().cpu().numpy().squeeze()\n",
    "    Y_test         = testdata.targets.detach().cpu().numpy().squeeze()\n",
    "    y_test_predict = (y_test_predict * y_std) + y_mean\n",
    "    Y_test         = (Y_test * y_std) + y_mean\n",
    "    # evaluating the model on test dataset\n",
    "    rmse_test = np.sqrt(mean_squared_error(Y_test, y_test_predict))\n",
    "    r2_test = r2_score(Y_test, y_test_predict)\n",
    "    \n",
    "    if (com_round % 10 == 0) or (com_round + 1 == com_rounds):\n",
    "        if local_model.privacy_engine: # privacy spent\n",
    "            epsilon, best_alpha = local_model.privacy_engine.get_privacy_spent(delta)\n",
    "            print(f'Privacy spent: (ε = {epsilon:.2f}, δ = {delta:.2f}) - Test RMSE: {rmse_test} - Test R2: {r2_test}')\n",
    "        else: \n",
    "            print(f'Test RMSE: {rmse_test} - Test R2: {r2_test}')"
   ]
  },
  {
   "cell_type": "code",
   "execution_count": 6,
   "id": "impossible-madonna",
   "metadata": {},
   "outputs": [],
   "source": [
    "output         = local_model(testdata.data)\n",
    "y_test_predict = output.detach().cpu().numpy().squeeze()\n",
    "Y_test         = testdata.targets.detach().cpu().numpy().squeeze()\n",
    "y_test_predict = (y_test_predict * y_std) + y_mean\n",
    "Y_test         = (Y_test * y_std) + y_mean"
   ]
  },
  {
   "cell_type": "code",
   "execution_count": 7,
   "id": "raising-slovenia",
   "metadata": {},
   "outputs": [
    {
     "name": "stdout",
     "output_type": "stream",
     "text": [
      "The model performance for the test set\n",
      "-------------------------------------------\n",
      "RMSE of test set is 4.62470006942749\n",
      "R2 score of test set is 0.7277190278736014\n"
     ]
    },
    {
     "data": {
      "image/png": "[encoded data removed]",
      "text/plain": [
       "<Figure size 432x432 with 1 Axes>"
      ]
     },
     "metadata": {
      "needs_background": "light"
     },
     "output_type": "display_data"
    }
   ],
   "source": [
    "import matplotlib.pyplot as plt\n",
    "\n",
    "# evaluating the model on test dataset\n",
    "rmse_test = np.sqrt(mean_squared_error(Y_test, y_test_predict))\n",
    "r2_test = r2_score(Y_test, y_test_predict)\n",
    "\n",
    "print(\"The model performance for the test set\")\n",
    "print(\"-------------------------------------------\")\n",
    "print(\"RMSE of test set is {}\".format(rmse_test))\n",
    "print(\"R2 score of test set is {}\".format(r2_test))\n",
    "\n",
    "# plotting the y_test vs y_pred\n",
    "# ideally should have been a straight line\n",
    "fig, ax = plt.subplots(figsize=(6,6))\n",
    "ax.scatter(Y_test, y_test_predict, s=15, label='Regression')\n",
    "ax.plot([0,55],[0,55], 'r-', label='Target')\n",
    "ax.set_xlabel('y true')\n",
    "ax.set_ylabel('y predicted')\n",
    "ax.set_title(f'Federated NN regression over Boston housing dataset')\n",
    "ax.set_xlim(xmin = 0, xmax = 55)\n",
    "ax.set_ylim(ymin = 0, ymax = 55)\n",
    "props = dict(boxstyle='round', facecolor='white', alpha=0.25)\n",
    "ax.text(0.25, 0.8, f'RMSE: {rmse_test:.2f} - $R^2$ Score: {r2_test:.2f}', ha='center', va='center', transform=ax.transAxes, bbox=props)\n",
    "ax.legend(loc='upper left')\n",
    "plt.gca().set_aspect('equal', adjustable='box')\n",
    "plt.grid('on')\n",
    "plt.show()"
   ]
  },
  {
   "cell_type": "code",
   "execution_count": null,
   "id": "operating-beast",
   "metadata": {},
   "outputs": [],
   "source": []
  }
 ],
 "metadata": {
  "kernelspec": {
   "display_name": "Python 3",
   "language": "python",
   "name": "python3"
  },
  "language_info": {
   "codemirror_mode": {
    "name": "ipython",
    "version": 3
   },
   "file_extension": ".py",
   "mimetype": "text/x-python",
   "name": "python",
   "nbconvert_exporter": "python",
   "pygments_lexer": "ipython3",
   "version": "3.7.4"
  }
 },
 "nbformat": 4,
 "nbformat_minor": 5
}
